{
  "nbformat": 4,
  "nbformat_minor": 0,
  "metadata": {
    "language_info": {
      "name": ""
    },
    "kernelspec": {
      "name": "",
      "display_name": ""
    },
    "colab": {
      "name": "HamoyeGradedQuiz.ipynb",
      "provenance": [],
      "include_colab_link": true
    }
  },
  "cells": [
    {
      "cell_type": "markdown",
      "metadata": {
        "id": "view-in-github",
        "colab_type": "text"
      },
      "source": [
        "<a href=\"https://colab.research.google.com/github/esther200416/hamoye/blob/master/HamoyeGradedQuiz.ipynb\" target=\"_parent\"><img src=\"https://colab.research.google.com/assets/colab-badge.svg\" alt=\"Open In Colab\"/></a>"
      ]
    },
    {
      "cell_type": "code",
      "metadata": {
        "trusted": true,
        "id": "vVxEsvfSYXuz",
        "colab_type": "code",
        "colab": {}
      },
      "source": [
        "import numpy as np\n",
        "import pandas as pd"
      ],
      "execution_count": null,
      "outputs": []
    },
    {
      "cell_type": "code",
      "metadata": {
        "trusted": true,
        "id": "aLo7t9z-YXu2",
        "colab_type": "code",
        "colab": {}
      },
      "source": [
        "fuel_data = pd.read_csv('https://bit.ly/HDSC-StageOneDataset')"
      ],
      "execution_count": null,
      "outputs": []
    },
    {
      "cell_type": "code",
      "metadata": {
        "trusted": true,
        "id": "vOae2V2IYXu6",
        "colab_type": "code",
        "colab": {},
        "outputId": "dbd529bd-ed06-4a1b-dd2f-9fe51cebaeec"
      },
      "source": [
        "fuel_data.info()"
      ],
      "execution_count": null,
      "outputs": [
        {
          "output_type": "stream",
          "text": [
            "<class 'pandas.core.frame.DataFrame'>\n",
            "RangeIndex: 29523 entries, 0 to 29522\n",
            "Data columns (total 11 columns):\n",
            "record_id                       29523 non-null object\n",
            "utility_id_ferc1                29523 non-null int64\n",
            "report_year                     29523 non-null int64\n",
            "plant_name_ferc1                29523 non-null object\n",
            "fuel_type_code_pudl             29523 non-null object\n",
            "fuel_unit                       29343 non-null object\n",
            "fuel_qty_burned                 29523 non-null float64\n",
            "fuel_mmbtu_per_unit             29523 non-null float64\n",
            "fuel_cost_per_unit_burned       29523 non-null float64\n",
            "fuel_cost_per_unit_delivered    29523 non-null float64\n",
            "fuel_cost_per_mmbtu             29523 non-null float64\n",
            "dtypes: float64(5), int64(2), object(4)\n",
            "memory usage: 2.5+ MB\n"
          ],
          "name": "stdout"
        }
      ]
    },
    {
      "cell_type": "markdown",
      "metadata": {
        "id": "aJiZ2uvBYXu_",
        "colab_type": "text"
      },
      "source": [
        "### QUESTION 6: The missing value features"
      ]
    },
    {
      "cell_type": "code",
      "metadata": {
        "trusted": true,
        "id": "LLOclm5MYXu_",
        "colab_type": "code",
        "colab": {},
        "outputId": "d0036359-c572-45e0-867f-938e1889bd48"
      },
      "source": [
        "fuel_data.isnull().sum()"
      ],
      "execution_count": null,
      "outputs": [
        {
          "output_type": "execute_result",
          "data": {
            "text/plain": [
              "record_id                         0\n",
              "utility_id_ferc1                  0\n",
              "report_year                       0\n",
              "plant_name_ferc1                  0\n",
              "fuel_type_code_pudl               0\n",
              "fuel_unit                       180\n",
              "fuel_qty_burned                   0\n",
              "fuel_mmbtu_per_unit               0\n",
              "fuel_cost_per_unit_burned         0\n",
              "fuel_cost_per_unit_delivered      0\n",
              "fuel_cost_per_mmbtu               0\n",
              "dtype: int64"
            ]
          },
          "metadata": {
            "tags": []
          },
          "execution_count": 77
        }
      ]
    },
    {
      "cell_type": "code",
      "metadata": {
        "trusted": true,
        "id": "yn3MG9K4YXvC",
        "colab_type": "code",
        "colab": {},
        "outputId": "2e5c85d6-6f72-4195-e30d-fb09be9bf88b"
      },
      "source": [
        "(fuel_data['fuel_unit'].isnull().sum()/29523).round(3)"
      ],
      "execution_count": null,
      "outputs": [
        {
          "output_type": "execute_result",
          "data": {
            "text/plain": [
              "0.006"
            ]
          },
          "metadata": {
            "tags": []
          },
          "execution_count": 80
        }
      ]
    },
    {
      "cell_type": "code",
      "metadata": {
        "trusted": true,
        "id": "tG77xqHSYXvE",
        "colab_type": "code",
        "colab": {},
        "outputId": "96bbd55e-7c66-4a57-9dc3-2f0bb2c298c8"
      },
      "source": [
        "fuel_data = fuel_data.fillna({'fuel_unit': 'mcf'})\n",
        "fuel_data.isnull().sum()"
      ],
      "execution_count": null,
      "outputs": [
        {
          "output_type": "execute_result",
          "data": {
            "text/plain": [
              "record_id                       0\n",
              "utility_id_ferc1                0\n",
              "report_year                     0\n",
              "plant_name_ferc1                0\n",
              "fuel_type_code_pudl             0\n",
              "fuel_unit                       0\n",
              "fuel_qty_burned                 0\n",
              "fuel_mmbtu_per_unit             0\n",
              "fuel_cost_per_unit_burned       0\n",
              "fuel_cost_per_unit_delivered    0\n",
              "fuel_cost_per_mmbtu             0\n",
              "dtype: int64"
            ]
          },
          "metadata": {
            "tags": []
          },
          "execution_count": 81
        }
      ]
    },
    {
      "cell_type": "markdown",
      "metadata": {
        "id": "QKvB34NLYXvG",
        "colab_type": "text"
      },
      "source": [
        "### QUESTION 3: The type code that has the average lowest cost per unit burned is 13.659397"
      ]
    },
    {
      "cell_type": "code",
      "metadata": {
        "trusted": true,
        "id": "eGMernZ-YXvH",
        "colab_type": "code",
        "colab": {},
        "outputId": "b4e818a2-6822-41b9-d726-51d1fe15964d"
      },
      "source": [
        "fuel_data.groupby(\"fuel_type_code_pudl\")['fuel_cost_per_unit_burned'].mean()"
      ],
      "execution_count": null,
      "outputs": [
        {
          "output_type": "execute_result",
          "data": {
            "text/plain": [
              "fuel_type_code_pudl\n",
              "coal         67.421830\n",
              "gas          13.659397\n",
              "nuclear    4955.157002\n",
              "oil         168.877086\n",
              "other        18.253856\n",
              "waste        19.518122\n",
              "Name: fuel_cost_per_unit_burned, dtype: float64"
            ]
          },
          "metadata": {
            "tags": []
          },
          "execution_count": 82
        }
      ]
    },
    {
      "cell_type": "markdown",
      "metadata": {
        "id": "PrqdDVmhYXvQ",
        "colab_type": "text"
      },
      "source": [
        "### QUESTION 4: The Standard deviation and 75th percentile of the measure of energy per unit (Fuel_mmbtu_per_unit) in two decimal places"
      ]
    },
    {
      "cell_type": "code",
      "metadata": {
        "trusted": true,
        "id": "rcs5AMFCYXvQ",
        "colab_type": "code",
        "colab": {},
        "outputId": "21a872ed-14ba-46fd-b684-69318bbc7d1c"
      },
      "source": [
        "np.std(fuel_data['fuel_mmbtu_per_unit']).round(2)"
      ],
      "execution_count": null,
      "outputs": [
        {
          "output_type": "execute_result",
          "data": {
            "text/plain": [
              "10.6"
            ]
          },
          "metadata": {
            "tags": []
          },
          "execution_count": 83
        }
      ]
    },
    {
      "cell_type": "code",
      "metadata": {
        "trusted": true,
        "id": "Ukty1L3OYXvS",
        "colab_type": "code",
        "colab": {},
        "outputId": "17434a1a-03ec-41be-d668-6426e7dd1224"
      },
      "source": [
        "fuel_data['fuel_mmbtu_per_unit'].quantile(0.75)"
      ],
      "execution_count": null,
      "outputs": [
        {
          "output_type": "execute_result",
          "data": {
            "text/plain": [
              "17.006"
            ]
          },
          "metadata": {
            "tags": []
          },
          "execution_count": 84
        }
      ]
    },
    {
      "cell_type": "markdown",
      "metadata": {
        "id": "88wc6ne8YXvU",
        "colab_type": "text"
      },
      "source": [
        "### QUESTION 5: The Skewness and Kurtosis for the fuel quantity burned in two decimal places"
      ]
    },
    {
      "cell_type": "code",
      "metadata": {
        "trusted": true,
        "id": "0qBLHeTpYXvU",
        "colab_type": "code",
        "colab": {},
        "outputId": "4e40c9f2-6299-466d-ad07-5f3932e6ef30"
      },
      "source": [
        "fuel_data['fuel_qty_burned'].skew().round(2)"
      ],
      "execution_count": null,
      "outputs": [
        {
          "output_type": "execute_result",
          "data": {
            "text/plain": [
              "15.85"
            ]
          },
          "metadata": {
            "tags": []
          },
          "execution_count": 85
        }
      ]
    },
    {
      "cell_type": "code",
      "metadata": {
        "trusted": true,
        "id": "58-KpPGmYXvW",
        "colab_type": "code",
        "colab": {},
        "outputId": "b5720251-78dc-419b-eaf2-3ea72c4564b8"
      },
      "source": [
        "fuel_data['fuel_qty_burned'].kurtosis().round(2)"
      ],
      "execution_count": null,
      "outputs": [
        {
          "output_type": "execute_result",
          "data": {
            "text/plain": [
              "651.37"
            ]
          },
          "metadata": {
            "tags": []
          },
          "execution_count": 86
        }
      ]
    },
    {
      "cell_type": "markdown",
      "metadata": {
        "id": "KNDKjYqzYXvd",
        "colab_type": "text"
      },
      "source": [
        "### QUESTION 9: the percentage change in the fuel cost per unit burned in 1998 compared to 1994"
      ]
    },
    {
      "cell_type": "code",
      "metadata": {
        "trusted": true,
        "id": "gbIwQ6rFYXvd",
        "colab_type": "code",
        "colab": {},
        "outputId": "f6405bd7-6f29-4b6a-96e2-31b7841acbf4"
      },
      "source": [
        "fuel_data.iloc[1994:1998]['fuel_cost_per_unit_burned'].pct_change()"
      ],
      "execution_count": null,
      "outputs": [
        {
          "output_type": "execute_result",
          "data": {
            "text/plain": [
              "1994         NaN\n",
              "1995   -1.000000\n",
              "1996         inf\n",
              "1997   -0.385512\n",
              "Name: fuel_cost_per_unit_burned, dtype: float64"
            ]
          },
          "metadata": {
            "tags": []
          },
          "execution_count": 87
        }
      ]
    },
    {
      "cell_type": "markdown",
      "metadata": {
        "id": "LD1bbTWvYXvg",
        "colab_type": "text"
      },
      "source": [
        "### QUESTION 10: The year that has the highest average fuel cost per unit delivered"
      ]
    },
    {
      "cell_type": "code",
      "metadata": {
        "trusted": true,
        "id": "jx7XRIwGYXvg",
        "colab_type": "code",
        "colab": {},
        "outputId": "368943f3-06fe-4865-f8d1-cbfda21bb7a9"
      },
      "source": [
        "fuel_data.groupby(\"report_year\")['fuel_cost_per_unit_delivered'].mean()"
      ],
      "execution_count": null,
      "outputs": [
        {
          "output_type": "execute_result",
          "data": {
            "text/plain": [
              "report_year\n",
              "1994       63.636060\n",
              "1995       32.735269\n",
              "1996     9196.705948\n",
              "1997    11140.197239\n",
              "1998      287.154420\n",
              "1999       25.551627\n",
              "2000      985.362877\n",
              "2001       60.050396\n",
              "2002       47.594361\n",
              "2003       55.663493\n",
              "2004      139.524275\n",
              "2005       41.438184\n",
              "2006       38.657484\n",
              "2007       43.325023\n",
              "2008       58.588197\n",
              "2009      652.694163\n",
              "2010       91.862105\n",
              "2011       59.774667\n",
              "2012       60.994502\n",
              "2013      172.307591\n",
              "2014      192.737183\n",
              "2015      326.535511\n",
              "2016      103.901761\n",
              "2017       46.196861\n",
              "2018      499.269966\n",
              "Name: fuel_cost_per_unit_delivered, dtype: float64"
            ]
          },
          "metadata": {
            "tags": []
          },
          "execution_count": 88
        }
      ]
    },
    {
      "cell_type": "code",
      "metadata": {
        "id": "rdY2LwXPYXvi",
        "colab_type": "code",
        "colab": {}
      },
      "source": [
        ""
      ],
      "execution_count": null,
      "outputs": []
    }
  ]
}